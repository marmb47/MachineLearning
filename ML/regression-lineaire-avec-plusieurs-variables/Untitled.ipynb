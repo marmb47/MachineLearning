{
  "nbformat": 4,
  "nbformat_minor": 0,
  "metadata": {
    "colab": {
      "name": "Untitled0.ipynb",
      "provenance": []
    },
    "kernelspec": {
      "name": "python3",
      "display_name": "Python 3"
    }
  },
  "cells": [
    {
      "cell_type": "markdown",
      "metadata": {
        "id": "g1eSp0m08qPF",
        "colab_type": "text"
      },
      "source": [
        "# Introduction"
      ]
    },
    {
      "cell_type": "markdown",
      "metadata": {
        "id": "8tTbk2pD8gFw",
        "colab_type": "text"
      },
      "source": [
        ""
      ]
    },
    {
      "cell_type": "markdown",
      "metadata": {
        "id": "Hnwh0EX98xO5",
        "colab_type": "text"
      },
      "source": [
        "# 1- Exploration des données"
      ]
    },
    {
      "cell_type": "markdown",
      "metadata": {
        "id": "iWFnNLfk9JgO",
        "colab_type": "text"
      },
      "source": [
        ""
      ]
    },
    {
      "cell_type": "markdown",
      "metadata": {
        "id": "WHR1CPVc9K8G",
        "colab_type": "text"
      },
      "source": [
        "# 2 - Représentation du modèle et fonction d'erreur"
      ]
    },
    {
      "cell_type": "markdown",
      "metadata": {
        "id": "eMBoI0Q-9l3G",
        "colab_type": "text"
      },
      "source": [
        ""
      ]
    },
    {
      "cell_type": "markdown",
      "metadata": {
        "id": "Nqb5iosF9pfV",
        "colab_type": "text"
      },
      "source": [
        "# 3 - Entrainement du modèle"
      ]
    },
    {
      "cell_type": "markdown",
      "metadata": {
        "id": "daRntpPC99Re",
        "colab_type": "text"
      },
      "source": [
        "## 3.1 - Descente de gradient"
      ]
    },
    {
      "cell_type": "markdown",
      "metadata": {
        "id": "vlpJ1Tpm-Grm",
        "colab_type": "text"
      },
      "source": [
        ""
      ]
    },
    {
      "cell_type": "markdown",
      "metadata": {
        "id": "glnNeOvT-Hb-",
        "colab_type": "text"
      },
      "source": [
        "## 3.2 - Normalisation"
      ]
    },
    {
      "cell_type": "markdown",
      "metadata": {
        "id": "W0ClwPRA-M5v",
        "colab_type": "text"
      },
      "source": [
        ""
      ]
    },
    {
      "cell_type": "markdown",
      "metadata": {
        "id": "qHa1Le1c-Non",
        "colab_type": "text"
      },
      "source": [
        "# 4 - Regréssion polynomiale"
      ]
    },
    {
      "cell_type": "markdown",
      "metadata": {
        "id": "0456Ty87-cZI",
        "colab_type": "text"
      },
      "source": [
        ""
      ]
    },
    {
      "cell_type": "markdown",
      "metadata": {
        "id": "mHZsRMLI-dFW",
        "colab_type": "text"
      },
      "source": [
        "# 5 - Equation normale"
      ]
    },
    {
      "cell_type": "markdown",
      "metadata": {
        "id": "RlGKOEV5-ikX",
        "colab_type": "text"
      },
      "source": [
        ""
      ]
    }
  ]
}