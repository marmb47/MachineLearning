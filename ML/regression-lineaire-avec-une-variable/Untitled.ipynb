{
 "cells": [
  {
   "cell_type": "markdown",
   "metadata": {},
   "source": [
    "# Introduction"
   ]
  },
  {
   "cell_type": "markdown",
   "metadata": {},
   "source": [
    "à remplir"
   ]
  },
  {
   "cell_type": "markdown",
   "metadata": {},
   "source": [
    "# 1 - Représentation du modèle et fonction d'erreur"
   ]
  },
  {
   "cell_type": "markdown",
   "metadata": {},
   "source": [
    "Nous allons réaliser un modèle qui permet de prédire le profit d'un food-truck connaissant la nombre d'habitants de la ville ou il sera stationné. Pour se faire, nous disposons d'un dataset qui contient les profits de plusieurs food-truck stationnés sur plusieurs villes différents."
   ]
  },
  {
   "cell_type": "markdown",
   "metadata": {},
   "source": [
    "## 1.1 - Comprendre le dataset"
   ]
  },
  {
   "cell_type": "markdown",
   "metadata": {},
   "source": [
    "le dataset a été téléchargé depuis kaggle sur le lien https://www.kaggle.com/alphaepsilon/housing-prices-dataset/data\n",
    "Il s'agit de deux fichier csv (train.csv et test.csv) qui contienent une multitude de champs (81 dans train, 80 dans test) qui portent sur les informtions relatives au maisons. Chaque ligne représente une maison.\n",
    "Dans cet articles nous n'allons utiliser que 2 champs : \n",
    "- le champ représentant la surface de la maison : LotArea (qui se trouve à la 5 eme position).\n",
    "- le champ représentant le prix de la maison : SalePrice (qui se trouve à la derniére position)."
   ]
  },
  {
   "cell_type": "markdown",
   "metadata": {},
   "source": [
    "Maintenant, allons recupérer ces deux champs et voir à quoi ils resembles"
   ]
  },
  {
   "cell_type": "code",
   "execution_count": 61,
   "metadata": {},
   "outputs": [
    {
     "name": "stdout",
     "output_type": "stream",
     "text": [
      "[[  8450. 208500.]\n",
      " [  9600. 181500.]\n",
      " [ 11250. 223500.]\n",
      " [  9550. 140000.]\n",
      " [ 14260. 250000.]\n",
      " [ 14115. 143000.]\n",
      " [ 10084. 307000.]\n",
      " [ 10382. 200000.]\n",
      " [  6120. 129900.]]\n"
     ]
    }
   ],
   "source": [
    "import numpy as np\n",
    "tab = np.genfromtxt('train.csv', dtype=float, delimiter=',',skip_header=1)\n",
    "\n",
    "# recuperation des surfaces des maisons\n",
    "X = tab[:,4];\n",
    "\n",
    "# recuperation des prix des maisons\n",
    "Y = tab[:,80];\n",
    "\n",
    "dataset = np.ones((np.size(X),2))\n",
    "dataset[:,0] = X\n",
    "dataset[:,1] = Y\n",
    "\n",
    "# on affiche les 10 premiers maisons\n",
    "print(dataset[0:9,:])"
   ]
  },
  {
   "cell_type": "markdown",
   "metadata": {},
   "source": [
    "On a recupérer les surfaces des maisons X et leur prix correspondant Y qu'on a mis sur un tableau à deux colonnes qui se nomme \"dataset\".\n",
    "le prémière colonne représente les surface des maisons et la deuxieme colonne représente les prix. On nomme m le nombre d'exemples (de maisons) dans le dataset.\n",
    "On obtient ainsi l'ensemble $$E_m = \\{(x^{(1)},y^{(1)}),(x^{(2)},y^{(2)}),...,(x^{(m)},y^{(m)})\\} $$"
   ]
  },
  {
   "cell_type": "markdown",
   "metadata": {},
   "source": [
    "De ce faite $$ (x^{(i)}, y^{(i)}) $$ représente la i-ème ligne dela table \"dataset\" : la surface et le prix dala i-ème maison."
   ]
  },
  {
   "cell_type": "markdown",
   "metadata": {},
   "source": [
    "si on visualise les 50 premiers élément du dataset, on aura : "
   ]
  },
  {
   "cell_type": "code",
   "execution_count": 62,
   "metadata": {},
   "outputs": [
    {
     "data": {
      "image/png": "[encoded data removed]",
      "text/plain": [
       "<Figure size 432x288 with 1 Axes>"
      ]
     },
     "metadata": {
      "needs_background": "light"
     },
     "output_type": "display_data"
    }
   ],
   "source": [
    "import matplotlib.pyplot as plt\n",
    "\n",
    "plt.plot(dataset[0:49,0], dataset[0:49,0], 'rx')\n",
    "plt.show()"
   ]
  },
  {
   "cell_type": "markdown",
   "metadata": {},
   "source": [
    "## 1.2 - Représenter le modèle : "
   ]
  },
  {
   "cell_type": "markdown",
   "metadata": {},
   "source": [
    "### 1.2.1 -Représentation du modèle : "
   ]
  },
  {
   "cell_type": "markdown",
   "metadata": {},
   "source": [
    "Nous avons maintenant notre dataset qui represente les prix des maisons en sachant leurs surface. Pour realiser le modele de regression linéaire, il ne faut trouver (apprendre) une fonction $$ h_\\Theta : X \\rightarrow Y $$"
   ]
  },
  {
   "cell_type": "markdown",
   "metadata": {},
   "source": [
    "la fonction est appelé h (comme hypothese) par convention.\n",
    "toujours par convention, on met theta pour faire référence aux paramètres de la fonction."
   ]
  },
  {
   "cell_type": "markdown",
   "metadata": {},
   "source": [
    "Comme on fait une regression linéaire, la fonction h sera linéaire et est représenté par $$ h_\\Theta (x) = \\Theta_0 + \\Theta_1 x$$"
   ]
  },
  {
   "cell_type": "markdown",
   "metadata": {},
   "source": [
    "Pour que notre modele soit pertinant, la condition suivante doit etre vrai : pour tout $$ (x^{(i)}, y^{(i)}) \\in E_m $$ on a $$ h_\\Theta (x^{(i)}) \\approx y^{(i)} $$"
   ]
  },
  {
   "cell_type": "markdown",
   "metadata": {},
   "source": [
    "Pour que la condition ci-dessus soit vrai, il nous faut trouvé des valeurs adéquat pour les paramettres (Theta_0 et Theta_1) de la fonction."
   ]
  },
  {
   "cell_type": "markdown",
   "metadata": {},
   "source": [
    "Maintenant, la question qu'on peut se poser est \"comment trouver les bonnes valeurs pour les parametres Theta_0 et Theta_1 ?\".\n",
    "Nous allons y répondre dans la dernière partie de cette article mais avant ca, on va voir la fonction d'erreur."
   ]
  },
  {
   "cell_type": "markdown",
   "metadata": {},
   "source": [
    "### 1.2.2 - Implémentation vectorielle du modèle : "
   ]
  },
  {
   "cell_type": "markdown",
   "metadata": {},
   "source": [
    "Pour rendre notre fonction h plus performant en temps de calcule on peut le vectoriser. Selon wikipedia, \"La vectorisation est le processus de conversion d'un programme informatique à partir d'une implémentation scalaire, qui traite une seule paire d'opérandes à la fois, à une implémentation vectorielle qui traite une opération sur plusieurs paires d'opérandes à la fois.\""
   ]
  },
  {
   "cell_type": "markdown",
   "metadata": {},
   "source": [
    "Pour implémenter véctoriellement notre modèle, on doit définir la fonction h_theta de manière vectorielle."
   ]
  },
  {
   "cell_type": "markdown",
   "metadata": {},
   "source": [
    "Pour definir la fonction h_theta de maniere vectorielle : \n",
    "- On transforme d'abord les parametres theta en vecteur $$ \\Theta =\\binom{\\Theta_0}{\\Theta_1} $$"
   ]
  },
  {
   "cell_type": "markdown",
   "metadata": {},
   "source": [
    "- Ensuite, on transforme x en vecteur $$ x =\\binom{x_0}{x_1} \\hspace{0.3cm} avec \\hspace{0.3cm} x_0=1 \\hspace{0.3cm} et \\hspace{0.3cm} x_1=x $$"
   ]
  },
  {
   "cell_type": "markdown",
   "metadata": {},
   "source": [
    "la fonction h_theta devient $$ h_\\Theta (x) = \\Theta^T x $$"
   ]
  },
  {
   "cell_type": "markdown",
   "metadata": {},
   "source": [
    "$$ avec \\hspace{0.2cm}\\Theta^T = vecteur \\hspace{0.2cm}transposé \\hspace{0.2cm} de \\hspace{0.2cm} \\Theta$$"
   ]
  },
  {
   "cell_type": "markdown",
   "metadata": {},
   "source": [
    "Dans le reste de l'article et de la série, on implémentera toujours les modèles de manière vectorielle"
   ]
  },
  {
   "cell_type": "markdown",
   "metadata": {},
   "source": [
    "$$ Pour \\hspace{0.2cm} tous \\hspace{0.2cm} les \\hspace{0.2cm} x^{(i)} \\in X \\hspace{0.2cm} on \\hspace{0.2cm} aura \\hspace{0.2cm} x^{(i)} =\\binom{x^{(i)}_0}{x^{(i)}_1} \\hspace{0.2cm} avec \\hspace{0.2cm} x^{(i)}_0=1 \\hspace{0.2cm} et \\hspace{0.2cm} x^{(i)}_1=x_1 $$"
   ]
  },
  {
   "cell_type": "markdown",
   "metadata": {},
   "source": [
    "L'ensemble X des surfaces des maisons va devenir : $$ X = \\begin{bmatrix}\n",
    "1 & x^{(1)}_1\\\\ \n",
    "1 & x^{(2)}_1\\\\ \n",
    " .&. \\\\ \n",
    " .&. \\\\ \n",
    " .&. \\\\ \n",
    "1 & x^{(n)}_1\n",
    "\\end{bmatrix} $$"
   ]
  },
  {
   "cell_type": "markdown",
   "metadata": {},
   "source": [
    "on modifie la varable dataset afin d'ajouter une colonne (avec des 1) devant. ce qui va nous donner : "
   ]
  },
  {
   "cell_type": "code",
   "execution_count": 63,
   "metadata": {},
   "outputs": [
    {
     "name": "stdout",
     "output_type": "stream",
     "text": [
      "(1460, 2)\n",
      "[[1.000e+00 8.450e+03]\n",
      " [1.000e+00 9.600e+03]\n",
      " [1.000e+00 1.125e+04]\n",
      " ...\n",
      " [1.000e+00 9.042e+03]\n",
      " [1.000e+00 9.717e+03]\n",
      " [1.000e+00 9.937e+03]]\n",
      "(1460,)\n",
      "[208500. 181500. 223500. ... 266500. 142125. 147500.]\n"
     ]
    }
   ],
   "source": [
    "datasetTemp = dataset\n",
    "\n",
    "dataset = np.ones((np.size(X),3))\n",
    "dataset[:,1] = datasetTemp[:,0]\n",
    "dataset[:,2] = datasetTemp[:,1]\n",
    "\n",
    "X = dataset[:,0:2]\n",
    "Y = dataset[:,2]\n",
    "\n",
    "print(X.shape)\n",
    "print(X)\n",
    "print(Y.shape)\n",
    "print(Y)"
   ]
  },
  {
   "cell_type": "markdown",
   "metadata": {},
   "source": [
    "On peut ainsi implémenter la fonction python qui correspond à h_theta. Cette fonction prend en parametre deux vecteurs x (ou une matrice mx2) et theta et retourne la valeur de h_theta de x."
   ]
  },
  {
   "cell_type": "code",
   "execution_count": 64,
   "metadata": {},
   "outputs": [],
   "source": [
    "def h_theta(X, theta):\n",
    "    ret = np.dot(theta, X.T)\n",
    "    return ret\n"
   ]
  },
  {
   "cell_type": "markdown",
   "metadata": {},
   "source": [
    "allons voir ce que donne la fonction h_theta sur des exemples : "
   ]
  },
  {
   "cell_type": "code",
   "execution_count": 85,
   "metadata": {},
   "outputs": [
    {
     "name": "stdout",
     "output_type": "stream",
     "text": [
      "pour theta = (0.5, 1), et x = (1, 8450) h_theta(x) vaut :  8450.5\n",
      "pour theta = (0.5, 1), et X est le dataset,  h_theta(x) vaut :  [ 8450.5  9600.5 11250.5 ...  9042.5  9717.5  9937.5]\n"
     ]
    }
   ],
   "source": [
    "# pour theta = (0.5, 1)\n",
    "theta = np.array([0.5, 1])\n",
    "\n",
    "x = np.array([1, 8450])\n",
    "print(\"pour theta = (0.5, 1), et x = (1, 8450) h_theta(x) vaut : \", h_theta(x,theta))\n",
    "\n",
    "print(\"pour theta = (0.5, 1), et X est le dataset,  h_theta(x) vaut : \", h_theta(X,theta))\n"
   ]
  },
  {
   "cell_type": "markdown",
   "metadata": {},
   "source": [
    "On voit que pour le premier exemple (maison), la surface est 8450 et prix est 208500.\n",
    "Quand on se sert de notre modèle h_theta pour estimer le prix de cette maison on trouve 8450.5, ce qui veut dire que notre modèle n'est pas encore au point.\n",
    "Pour qu'il soit au point il faudra l'entrainer avec notre dataset."
   ]
  },
  {
   "cell_type": "markdown",
   "metadata": {},
   "source": [
    "## 1.3 - Fonction d'erreur : "
   ]
  },
  {
   "cell_type": "markdown",
   "metadata": {},
   "source": [
    "On a vu que notre modèle fait des erreurs dans l'estimation des prix des maisons. en prenant l'exemple de la première maison de notre dataset qui vaut 208500, notre modèle l'estime à 8450.5."
   ]
  },
  {
   "cell_type": "markdown",
   "metadata": {},
   "source": [
    "On peut definir l'erreur de notre modèle sur la première maison par : $$ (h_\\Theta (x^{(1)}) - y^{(1)})^2 = (8450.5 - 208500)^2 =40019802450,25 $$"
   ]
  },
  {
   "cell_type": "markdown",
   "metadata": {},
   "source": [
    "Ce qui est un grosse erreur car le prix estimé est trés loin du prix réelle."
   ]
  },
  {
   "cell_type": "markdown",
   "metadata": {},
   "source": [
    "On peut ainsi définir la fonction d'erreur comme la moyene des erreurs de notre modèle sur le dataset E_m\n",
    "Ce qui nous donne : $$ J(\\Theta ) = \\frac{1}{2m}\\sum_{i=1}^{m}(h_\\Theta (x^{(i)}) - y^{(i)})^2 $$"
   ]
  },
  {
   "cell_type": "markdown",
   "metadata": {},
   "source": [
    "Cette fonction est aussi appelé erreur quadratique."
   ]
  },
  {
   "cell_type": "markdown",
   "metadata": {},
   "source": [
    "Par convension et pour faciliter le calcul du gradiant, on multiplie cette moyène par 1/2."
   ]
  },
  {
   "cell_type": "markdown",
   "metadata": {},
   "source": [
    "Lors de l'entrainement du modèle, c'est cette fonction J_theta qu'on va essayé de minimiser.\n",
    "Ce qui revient à trouver un vecteur de paramèttre theta=(theta_0, theta_1) pour lequel J_theta serait le plus proche de 0."
   ]
  },
  {
   "cell_type": "markdown",
   "metadata": {},
   "source": [
    "On peut ainsi implémenter la fonction python qui correspond à la fonction d'erreur J de theta. Cette fonction prend en parametre un vecteur x (ou une matrice mx2), un vecteur theta et un vecteur Y (ou un scalaire y_i) et retourne la valeur de J de theta."
   ]
  },
  {
   "cell_type": "code",
   "execution_count": 115,
   "metadata": {},
   "outputs": [],
   "source": [
    "def computeErrorFunction(x, y, theta):\n",
    "    h_theta_de_x = h_theta(x,theta)\n",
    "    vec_temp =  (h_theta_de_x - y)**2\n",
    "    ret = np.sum(vec_temp)/(2*(y.size))\n",
    "    return ret"
   ]
  },
  {
   "cell_type": "markdown",
   "metadata": {},
   "source": [
    "on peut calculer l'erreur : "
   ]
  },
  {
   "cell_type": "code",
   "execution_count": 117,
   "metadata": {},
   "outputs": [
    {
     "name": "stdout",
     "output_type": "stream",
     "text": [
      "pour theta = (0.5, 1), l'erreur est : 17512844306.44418\n",
      "pour theta = (500, 1000), l'erreur est : 50740190897.50479\n"
     ]
    }
   ],
   "source": [
    "theta = np.array([0.5, 1])\n",
    "print(\"pour theta = (0.5, 1), l'erreur est :\", computeErrorFunction(X, Y, theta))\n",
    "\n",
    "theta = np.array([12, 30])\n",
    "print(\"pour theta = (500, 1000), l'erreur est :\", computeErrorFunction(X, Y, theta))"
   ]
  },
  {
   "cell_type": "markdown",
   "metadata": {},
   "source": [
    "On voit que l'erreur est plus petite avec theta = (500, 1000) qu'avec theta = (0.5, 1), donc notre modèle est plus performant avec le parametre theta = (500, 1000)."
   ]
  },
  {
   "cell_type": "markdown",
   "metadata": {},
   "source": [
    "# 2 - Entrainement du Modèle : "
   ]
  },
  {
   "cell_type": "markdown",
   "metadata": {},
   "source": [
    "L'entrainement du modèle consiste à trouver le vecteur paramètre theta = (theta_0, theta_1) pour lequel la fonction d'erreur J(theta) est le plus proche de 0. Pour se faire, on doit minimiser la fonction J(theta) : $$ \\underset{\\Theta_{0}, \\Theta_{1}}{min}J(\\Theta) $$."
   ]
  },
  {
   "cell_type": "markdown",
   "metadata": {},
   "source": [
    "On minimise J(theta) en faisant une descente de gradient."
   ]
  },
  {
   "cell_type": "markdown",
   "metadata": {},
   "source": [
    "## 2.1 - la descente de gradient : "
   ]
  },
  {
   "cell_type": "markdown",
   "metadata": {},
   "source": [
    "La descente de gradient est un algorithme qui permet de trouver le minimum d'une focntion."
   ]
  },
  {
   "cell_type": "markdown",
   "metadata": {},
   "source": [
    "Si on veut trouver le minimum d'une fonction f(x) par exemple $$ \\underset{x}{min}f(x) $$, calculer f(x) pour toutes les valeur possibles de x serait trés couteux en ressources informatique et en temps de calcul. Il existe un meilleur outils (largement utilisé en machine learning) qui s'appele la descente de gradient."
   ]
  },
  {
   "cell_type": "markdown",
   "metadata": {},
   "source": [
    "1- La première etape de la descente de gradient est de choisir au hasard une valeur x_0 de départ pour x.\n",
    "2- Ensuite, on calcule le gradient de la fonction f au point x_0 (qui est f'(x_0)). En effet, le gradient est un vecteur qui indique toujours la direction de la croissance maximale de la fonction. Le schéma suivant va illustrer ca :"
   ]
  },
  {
   "attachments": {
    "desc-grad-1.png": {
     "image/png": "[encoded data removed]"
    }
   },
   "cell_type": "markdown",
   "metadata": {},
   "source": [
    "![desc-grad-1.png](attachment:desc-grad-1.png)"
   ]
  },
  {
   "cell_type": "markdown",
   "metadata": {},
   "source": [
    "3- Comme le gradient indique la direction de la valeur maximale de la fonction, donc pour avoire une nouvelle valeur de x qui nous permette de nous rapprocher de la valeur minimale de la fonction f(x) on fait un pas vers la direction inverse du gradient. ce qui nous donne une nouvelle valeur x_1 = x_0 - alpha*f'(x_0)."
   ]
  },
  {
   "cell_type": "markdown",
   "metadata": {},
   "source": [
    "4- on repéte les etapes 1, 2, et 3 avec la nouvelle valeur de x_1 de x.\n",
    "5- En iterant plusieurs fois sur ce procédé, on va arriver à une valeur x_n tel que $$ f(x_{n}) \\approx 0 $$"
   ]
  },
  {
   "cell_type": "markdown",
   "metadata": {},
   "source": [
    "Et la, on dit qu'on a atteint notre point de convergence."
   ]
  },
  {
   "attachments": {
    "desc-grad-2.png": {
     "image/png": "[encoded data removed]"
    }
   },
   "cell_type": "markdown",
   "metadata": {},
   "source": [
    "![desc-grad-2.png](attachment:desc-grad-2.png)"
   ]
  },
  {
   "cell_type": "markdown",
   "metadata": {},
   "source": [
    "alpha est un paramètre de l'algorithme de descente de gradient. On l'appelle le pas d'apprentissage (learning rate en anglais).\n",
    "la valeur de alpha doit etre fixé avant le debut de la descente de grandient. Il ne doit ni trop petit ni trop grand."
   ]
  },
  {
   "cell_type": "markdown",
   "metadata": {},
   "source": [
    "## 2.2 - Application de la descente de gradient à notre modèle de regression linéaire : "
   ]
  },
  {
   "cell_type": "markdown",
   "metadata": {},
   "source": [
    "L'entrainement du modèle consiste à minimiser la fonction d'erreur : $$ \\underset{\\Theta_{0}, \\Theta_{1}}{min}J(\\Theta) $$."
   ]
  },
  {
   "cell_type": "markdown",
   "metadata": {},
   "source": [
    "Pour se faire, nous allons appliquer le descente de gradient sur la fonction J(theta).\n",
    "Dans le cas de notre fonction J(theta), on a deux inconnues theta_0 et theta_1. au lieu de calculer J'(theta), on calcule les dérivés partiels $$ \\frac{\\partial}{\\partial \\Theta_0}J(\\Theta) \\hspace{0.2cm} et \\hspace{0.2cm} \\frac{\\partial}{\\partial \\Theta_1}J(\\Theta)$$"
   ]
  },
  {
   "cell_type": "markdown",
   "metadata": {},
   "source": [
    "qui sont  : $$ \\frac{\\partial}{\\partial \\Theta_0}J(\\Theta) = \\frac{1}{m}\\sum_{i=1}^{m}\\left ( h_\\Theta (x^{(i)}) - y^{(i)} \\right ) $$"
   ]
  },
  {
   "cell_type": "markdown",
   "metadata": {},
   "source": [
    "$$ \\frac{\\partial}{\\partial \\Theta_1}J(\\Theta) = \\frac{1}{m}\\sum_{i=1}^{m}(\\left ( h_\\Theta (x^{(i)}) - y^{(i)} \\right )x^{(i)}_1) $$"
   ]
  },
  {
   "cell_type": "markdown",
   "metadata": {},
   "source": [
    "Dabord, on choisi des valeurs initiaux (au hasarrd) pour theta_0 et theta_1"
   ]
  },
  {
   "cell_type": "markdown",
   "metadata": {},
   "source": [
    "Ensuite, on fait des itérations : "
   ]
  },
  {
   "cell_type": "markdown",
   "metadata": {},
   "source": [
    "on a : repeter { $$ \\Theta_0 := \\Theta_0 - \\alpha \\frac{1}{m}\\sum_{i=1}^{m}\\left ( h_\\Theta (x^{(i)}) - y^{(i)} \\right ) $$"
   ]
  },
  {
   "cell_type": "markdown",
   "metadata": {},
   "source": [
    "$$ \\Theta_1 := \\Theta_1 - \\alpha \\frac{1}{m}\\sum_{i=1}^{m}(\\left ( h_\\Theta (x^{(i)}) - y^{(i)} \\right )x^{(i)}_1) $$"
   ]
  },
  {
   "cell_type": "markdown",
   "metadata": {},
   "source": [
    "}"
   ]
  },
  {
   "cell_type": "markdown",
   "metadata": {},
   "source": [
    "En machine learning, chaque itération est appelé epoque. le nombre d'époque est un paramèttre de l'apprentissage."
   ]
  },
  {
   "cell_type": "markdown",
   "metadata": {},
   "source": [
    "Pour implémenter véctoriellement l'entrainement de notre modèle, On transforme les parametres theta et les gradients (dérivés partielles) en vecteur $$ \\Theta =\\binom{\\Theta_0}{\\Theta_1} \\hspace{0.2cm} et \\hspace{0.2cm} \\triangledown J(\\Theta ) = \\binom{\\frac{\\partial}{\\partial \\Theta_0}J(\\Theta)}{\\frac{\\partial}{\\partial \\Theta_1}J(\\Theta)}$$"
   ]
  },
  {
   "cell_type": "markdown",
   "metadata": {},
   "source": [
    "Notre itération devient :  repeter { $$ \\Theta := \\Theta - \\alpha \\hspace{0.1cm} \\triangledown J(\\Theta ) $$"
   ]
  },
  {
   "cell_type": "markdown",
   "metadata": {},
   "source": [
    "}"
   ]
  },
  {
   "cell_type": "markdown",
   "metadata": {},
   "source": [
    "On peut ainsi implémenter la fonction python qui calcule les gradients. Cette fonction prend en parametre un vecteur une matrice mx2, un vecteur theta et un vecteur Y et retourne le vercteur de gradient $$ \\triangledown J(\\Theta ) $$."
   ]
  },
  {
   "cell_type": "code",
   "execution_count": 86,
   "metadata": {},
   "outputs": [],
   "source": [
    "def computeGradient(x, y, theta):\n",
    "    h_theta_de_x = h_theta(x,theta)\n",
    "    vec_temp =  (h_theta_de_x - y)\n",
    "    ret = np.dot(x.T,vec_temp)/y.size\n",
    "    return ret"
   ]
  },
  {
   "cell_type": "markdown",
   "metadata": {},
   "source": [
    "on peut calculer le vecteur des gradients pour voir ce que ca donne : "
   ]
  },
  {
   "cell_type": "code",
   "execution_count": 87,
   "metadata": {},
   "outputs": [
    {
     "name": "stdout",
     "output_type": "stream",
     "text": [
      "pour theta = (0.5, 1), le vecteur des gradients est : [-1.70403868e+05 -1.90161854e+09]\n"
     ]
    }
   ],
   "source": [
    "theta = np.array([0.5, 1])\n",
    "print(\"pour theta = (0.5, 1), le vecteur des gradients est :\", computeGradient(X, Y, theta))"
   ]
  },
  {
   "cell_type": "markdown",
   "metadata": {},
   "source": [
    "On peut aussi implémenter la fonction python qui entraine notre modèle. Cette fonction prend en parametre un vecteur une matrice mx2, un vecteur Y, le nombre d'epoques, et le learning rate (alpha) et retourne le vercteur de theta pour lequel notre fonction d'erreur sera minimum."
   ]
  },
  {
   "cell_type": "code",
   "execution_count": 113,
   "metadata": {},
   "outputs": [],
   "source": [
    "np.seterr(all='warn')\n",
    "np.set_printoptions(suppress=True)\n",
    "def trainModel(x, y, nb_epoch, alpha=2):\n",
    "    # on choisi des valeurs arbitraires pour le vecteur theta\n",
    "    theta = np.array([12, 23])\n",
    "    # on itere sur le nombre d'epoques\n",
    "    for i in range(nb_epoch):\n",
    "        grad = computeGradient(x, y, theta)\n",
    "        theta = theta - alpha*grad\n",
    "        if i == 15 : \n",
    "            print(\"theta \", theta)\n",
    "            print(\"gradient :\", grad)\n",
    "            print(\"h_theta : \",h_theta(x,theta))\n",
    "            \n",
    "        print(\"Epoque \", i)\n",
    "        print(\"l'erreur est : \", \"%.5f\"%computeErrorFunction(x, y, theta))\n",
    "    \n",
    "    return theta"
   ]
  },
  {
   "cell_type": "markdown",
   "metadata": {},
   "source": [
    "Entrainons notre modèle sur 10 epoques par exemple. ce qui nous donne : "
   ]
  },
  {
   "cell_type": "code",
   "execution_count": 114,
   "metadata": {},
   "outputs": [
    {
     "name": "stdout",
     "output_type": "stream",
     "text": [
      "Epoque  0\n",
      "l'erreur est :  77859732537951528157184.00000\n",
      "Epoque  1\n",
      "l'erreur est :  343888065122202927648190320640786432.00000\n",
      "Epoque  2\n",
      "l'erreur est :  1518872432240406566428139043658078160294028247040.00000\n",
      "Epoque  3\n",
      "l'erreur est :  6708501106603084323558202062909336433289529595405010003296256.00000\n",
      "Epoque  4\n",
      "l'erreur est :  29629866302143559587893603476521753851066034041860167850389637231781347328.00000\n",
      "Epoque  5\n",
      "l'erreur est :  130868127340513065674569562113885557634874213695174987025951128111802410475734526066688.00000\n",
      "Epoque  6\n",
      "l'erreur est :  578013635936443265560346563544150374485911653597800435277730327189754070139133924585913609426567168.00000\n",
      "Epoque  7\n",
      "l'erreur est :  2552949829098984081329956788172309184330548339606438274329654063953826784353322220821357179550141143221706686464.00000\n",
      "Epoque  8\n",
      "l'erreur est :  11275776944842176881676354703397064043200317079685027609575249721275915127589633727312551946941348949560568996329518796898304.00000\n",
      "Epoque  9\n",
      "l'erreur est :  49802445884612946253021354305641364515358563886855868737067928253864788451102911879113814054640388593295182698746194339713876063714017280.00000\n",
      "Epoque  10\n",
      "l'erreur est :  219965650989960775566177908609812713813977976860040303241991060760986367964690372295763902122172487761354674034810762776584569713722823101717864775680.00000\n",
      "Epoque  11\n",
      "l'erreur est :  971536372481382543256374192574140502152094703013759212574259146081570954682648513884223461322384861521661366101191707397601812885337494869382307652891037971513344.00000\n",
      "Epoque  12\n",
      "l'erreur est :  4291046892123010893268243448540354795222017071259172458130209707865203281713794786706809124691104622230805568532364928616958014478881592232036048921629076589334729936393469952.00000\n",
      "Epoque  13\n",
      "l'erreur est :  18952541512542628289187164763760973387435007716914716520568694981793979226717961301265415326349693793632921497072604930542540330621627988443056360617156245148911130538294471714881799192576.00000\n",
      "Epoque  14\n",
      "l'erreur est :  83708903401644586504321846929610850464247266642312714268210240802115665633329669513380534759613587939448338410662447804279554617536707092337566245755577478069992566264826296565801343034714648987303936.00000\n",
      "theta  [9.38662010e+097 1.87575784e+102]\n",
      "gradient : [-9.38662457e+099 -1.87575873e+104]\n",
      "h_theta :  [1.58501538e+106 1.80072753e+106 2.11022757e+106 ... 1.69606024e+106\n",
      " 1.82267390e+106 1.86394057e+106]\n",
      "Epoque  15\n",
      "l'erreur est :  369722472527951037809850879604142154937064829988417696366612581048948203284724521481239872753735666247790069107053556841651960458714822652865972225122149104280534726755267191267469672133134991580165806968287526912.00000\n",
      "Epoque  16\n",
      "l'erreur est :  1632976913295643013476748186292594898658577859313291313454046280342322531544312139780941217427501983374316480984521970494110489395116298527619210364033467044988089119905832997350535628335609647869490447095982404881880547590144.00000\n",
      "Epoque  17\n",
      "l'erreur est :  7212473672816764927421864363743898300435786296065040549678127100110137839937577693296765148322996428332639875322512271009044179786724082683845437389168388719447352803134299774371758080928816303380404060785023137500735043725467170885337088.00000\n",
      "Epoque  18\n",
      "l'erreur est :  31855794198639201364480537813805741275475510153918401672211015578270225743087228036882048536279272469578821774446984056103710433988084343749106783822097642747126573837434965352238875864633893290866147239441068643069983443248611682585937484951345692672.00000\n",
      "Epoque  19\n",
      "l'erreur est :  140699525580345684579010575254880085751621567980091860923530753117327961293110432370721095283437210948960385985491528958344187155596710541798137086927653498985245048627613410298943526460080606221886540088649054268964700175977996953927730876618160400157377283751936.00000\n",
      "Epoque  20\n",
      "l'erreur est :  621436601928449867745676483372005563056206284426487299294880263138618236587281241706034739258894355458283818134751084991911277592860873276818665888624573611895725331608559975127630454887807380624627439543445335227567282452457349162231914472674638734505348119188928530124636160.00000\n",
      "Epoque  21\n",
      "l'erreur est :  2744738822845934622299221890786445167389518867414950210351241803040851579712887200290548565647669022153194339190702532096405152877194896310919206157078393878768776115808712967997116710839594333314824078660911125299484743983613765571237770756763513449082284681493521399252555062046487478272.00000\n",
      "Epoque  22\n",
      "l'erreur est :  12122863671465956341445160392283037471162497286252839935187696978550276517365712869898382060194148979610905424662640845215428308087405434111627807164959249320877161405486377419319767575082684568971058634361492259399792763496007817260991115879682591396626419457072039360252889925352724479322890419830784.00000\n",
      "Epoque  23\n",
      "l'erreur est :  inf\n",
      "Epoque  24\n",
      "l'erreur est :  inf\n",
      "Epoque  25\n",
      "l'erreur est :  inf\n",
      "Epoque  26\n",
      "l'erreur est :  inf\n",
      "Epoque  27\n",
      "l'erreur est :  inf\n",
      "Epoque  28\n",
      "l'erreur est :  inf\n",
      "Epoque  29\n",
      "l'erreur est :  inf\n",
      "Epoque  30\n",
      "l'erreur est :  inf\n",
      "Epoque  31\n",
      "l'erreur est :  inf\n",
      "Epoque  32\n",
      "l'erreur est :  inf\n",
      "Epoque  33\n",
      "l'erreur est :  inf\n",
      "Epoque  34\n",
      "l'erreur est :  inf\n",
      "Epoque  35\n",
      "l'erreur est :  inf\n",
      "Epoque  36\n",
      "l'erreur est :  inf\n",
      "Epoque  37\n",
      "l'erreur est :  inf\n",
      "Epoque  38\n",
      "l'erreur est :  inf\n",
      "Epoque  39\n",
      "l'erreur est :  inf\n",
      "Epoque  40\n",
      "l'erreur est :  inf\n",
      "Epoque  41\n",
      "l'erreur est :  inf\n",
      "Epoque  42\n",
      "l'erreur est :  inf\n",
      "Epoque  43\n",
      "l'erreur est :  inf\n",
      "Epoque  44\n",
      "l'erreur est :  inf\n",
      "Epoque  45\n",
      "l'erreur est :  inf\n",
      "Epoque  46\n",
      "l'erreur est :  inf\n",
      "Epoque  47\n",
      "l'erreur est :  inf\n",
      "Epoque  48\n",
      "l'erreur est :  nan\n",
      "Epoque  49\n",
      "l'erreur est :  nan\n",
      "Epoque  50\n",
      "l'erreur est :  nan\n",
      "Epoque  51\n",
      "l'erreur est :  nan\n",
      "Epoque  52\n",
      "l'erreur est :  nan\n",
      "Epoque  53\n",
      "l'erreur est :  nan\n",
      "Epoque  54\n",
      "l'erreur est :  nan\n",
      "Epoque  55\n",
      "l'erreur est :  nan\n",
      "Epoque  56\n",
      "l'erreur est :  nan\n",
      "Epoque  57\n",
      "l'erreur est :  nan\n",
      "Epoque  58\n",
      "l'erreur est :  nan\n",
      "Epoque  59\n",
      "l'erreur est :  nan\n",
      "Epoque  60\n",
      "l'erreur est :  nan\n",
      "Epoque  61\n",
      "l'erreur est :  nan\n",
      "Epoque  62\n",
      "l'erreur est :  nan\n",
      "Epoque  63\n",
      "l'erreur est :  nan\n",
      "Epoque  64\n",
      "l'erreur est :  nan\n",
      "Epoque  65\n",
      "l'erreur est :  nan\n",
      "Epoque  66\n",
      "l'erreur est :  nan\n",
      "Epoque  67\n",
      "l'erreur est :  nan\n",
      "Epoque  68\n",
      "l'erreur est :  nan\n",
      "Epoque  69\n",
      "l'erreur est :  nan\n",
      "Epoque  70\n",
      "l'erreur est :  nan\n",
      "Epoque  71\n",
      "l'erreur est :  nan\n",
      "Epoque  72\n",
      "l'erreur est :  nan\n",
      "Epoque  73\n",
      "l'erreur est :  nan\n",
      "Epoque  74\n",
      "l'erreur est :  nan\n",
      "Epoque  75\n",
      "l'erreur est :  nan\n",
      "Epoque  76\n",
      "l'erreur est :  nan\n",
      "Epoque  77\n",
      "l'erreur est :  nan\n",
      "Epoque  78\n",
      "l'erreur est :  nan\n",
      "Epoque  79\n",
      "l'erreur est :  nan\n",
      "Epoque  80\n",
      "l'erreur est :  nan\n",
      "Epoque  81\n",
      "l'erreur est :  nan\n",
      "Epoque  82\n",
      "l'erreur est :  nan\n",
      "Epoque  83\n",
      "l'erreur est :  nan\n",
      "Epoque  84\n",
      "l'erreur est :  nan\n",
      "Epoque  85\n",
      "l'erreur est :  nan\n",
      "Epoque  86\n",
      "l'erreur est :  nan\n",
      "Epoque  87\n",
      "l'erreur est :  nan\n",
      "Epoque  88\n",
      "l'erreur est :  nan\n",
      "Epoque  89\n",
      "l'erreur est :  nan\n",
      "Epoque  90\n",
      "l'erreur est :  nan\n",
      "Epoque  91\n",
      "l'erreur est :  nan\n",
      "Epoque  92\n",
      "l'erreur est :  nan\n",
      "Epoque  93\n",
      "l'erreur est :  nan\n",
      "Epoque  94\n",
      "l'erreur est :  nan\n",
      "Epoque  95\n",
      "l'erreur est :  nan\n",
      "Epoque  96\n",
      "l'erreur est :  nan\n",
      "Epoque  97\n",
      "l'erreur est :  nan\n",
      "Epoque  98\n",
      "l'erreur est :  nan\n",
      "Epoque  99\n",
      "l'erreur est :  nan\n"
     ]
    },
    {
     "name": "stderr",
     "output_type": "stream",
     "text": [
      "C:\\Users\\a605199\\AppData\\Local\\Continuum\\anaconda3\\envs\\ML\\lib\\site-packages\\ipykernel_launcher.py:4: RuntimeWarning: overflow encountered in multiply\n",
      "  after removing the cwd from sys.path.\n",
      "C:\\Users\\a605199\\AppData\\Local\\Continuum\\anaconda3\\envs\\ML\\lib\\site-packages\\ipykernel_launcher.py:9: RuntimeWarning: invalid value encountered in subtract\n",
      "  if __name__ == '__main__':\n"
     ]
    },
    {
     "data": {
      "text/plain": [
       "nan"
      ]
     },
     "execution_count": 114,
     "metadata": {},
     "output_type": "execute_result"
    }
   ],
   "source": [
    "theta_train = trainModel(X, Y, 100, 0.01)\n",
    "x = np.array([1, 8450])\n",
    "h_theta(x,theta_train)"
   ]
  },
  {
   "cell_type": "code",
   "execution_count": 76,
   "metadata": {},
   "outputs": [
    {
     "name": "stdout",
     "output_type": "stream",
     "text": [
      "21\n"
     ]
    }
   ],
   "source": [
    "a=np.array([  0.,   1.,   4.])\n",
    "b=np.array([[1,2,3],[4,5,6]])\n",
    "print(np.sum(b))"
   ]
  },
  {
   "cell_type": "markdown",
   "metadata": {},
   "source": [
    "# Annexe : "
   ]
  },
  {
   "cell_type": "markdown",
   "metadata": {},
   "source": [
    "### passage de l'implementation scalaire à l'implementation vectorielle"
   ]
  },
  {
   "cell_type": "markdown",
   "metadata": {},
   "source": [
    "on peut demontrer $$ h_\\Theta (x) = \\Theta_0 + \\Theta_1 x = \\Theta_0 * 1 + \\Theta_1 * x $$"
   ]
  },
  {
   "cell_type": "markdown",
   "metadata": {},
   "source": [
    "$$ comme \\hspace{0.2cm} x_0 = 1 \\hspace{0.2cm} et \\hspace{0.2cm} x_1 = x, \\hspace{0.3cm} on \\hspace{0.3cm} peut \\hspace{0.3cm} ecrire \\hspace{0.3cm} h_\\Theta (x) = \\Theta_0 * x_0 + \\Theta_1 * x_1 $$"
   ]
  },
  {
   "cell_type": "markdown",
   "metadata": {},
   "source": [
    "$$ce \\hspace{0.2cm} qui \\hspace{0.2cm} nous \\hspace{0.2cm} donne \\hspace{0.2cm} h_\\Theta (x) = \\bigl(\\begin{smallmatrix}\n",
    " \\Theta_0& \\Theta_1\n",
    "\\end{smallmatrix}\\bigr) * \\binom{x_0}{x_1} = \\Theta^Tx $$\n"
   ]
  },
  {
   "cell_type": "markdown",
   "metadata": {},
   "source": [
    "$$ h_\\Theta (x) = \\Theta^T x $$"
   ]
  },
  {
   "cell_type": "code",
   "execution_count": null,
   "metadata": {},
   "outputs": [],
   "source": []
  }
 ],
 "metadata": {
  "kernelspec": {
   "display_name": "Python [conda env:ML] *",
   "language": "python",
   "name": "conda-env-ML-py"
  },
  "language_info": {
   "codemirror_mode": {
    "name": "ipython",
    "version": 3
   },
   "file_extension": ".py",
   "mimetype": "text/x-python",
   "name": "python",
   "nbconvert_exporter": "python",
   "pygments_lexer": "ipython3",
   "version": "3.7.4"
  }
 },
 "nbformat": 4,
 "nbformat_minor": 2
}
