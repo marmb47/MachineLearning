{
  "nbformat": 4,
  "nbformat_minor": 0,
  "metadata": {
    "colab": {
      "name": "regression-lineaire-avec-plusieurs-variables.ipynb",
      "provenance": [],
      "collapsed_sections": [],
      "authorship_tag": "ABX9TyOEHvyMiN7KpySPG97OJkzV",
      "include_colab_link": true
    },
    "kernelspec": {
      "name": "python3",
      "display_name": "Python 3"
    }
  },
  "cells": [
    {
      "cell_type": "markdown",
      "metadata": {
        "id": "view-in-github",
        "colab_type": "text"
      },
      "source": [
        "<a href=\"https://colab.research.google.com/github/marmb47/MachineLearning/blob/master/regression_lineaire_avec_plusieurs_variables.ipynb\" target=\"_parent\"><img src=\"https://colab.research.google.com/assets/colab-badge.svg\" alt=\"Open In Colab\"/></a>"
      ]
    },
    {
      "cell_type": "markdown",
      "metadata": {
        "id": "g1eSp0m08qPF"
      },
      "source": [
        "# Introduction"
      ]
    },
    {
      "cell_type": "markdown",
      "metadata": {
        "id": "8tTbk2pD8gFw"
      },
      "source": [
        "Cet article est le troisième de la série intitulée \"Machine Learning pour débutant\". Dans ce tutoriel, nous allons parler de la régression linéaire avec plusieures variables plus connu sous le nom de \"Multivariate linear regression\" . Pour ce faire, aprés avoir explorer les données, nous allons représenter le modèle et la fonction d'erreur avant d'entrainer le modèle et de trouver l'équation normale."
      ]
    },
    {
      "cell_type": "markdown",
      "metadata": {
        "id": "Hnwh0EX98xO5"
      },
      "source": [
        "# 1- Exploration des données"
      ]
    },
    {
      "cell_type": "markdown",
      "metadata": {
        "id": "iWFnNLfk9JgO"
      },
      "source": [
        "Dans cet article, Nous allons réaliser un modèle qui permet de prédire le prix d’une maison à partir de sa surface en metre carré et du nombre de chambres. Pour ce faire, nous disposons d’un dataset qui contient les informations (surface, nombre de chambres, et prix) de plusieurs maison."
      ]
    },
    {
      "cell_type": "markdown",
      "metadata": {
        "id": "Vh1V7QyIPLRd"
      },
      "source": [
        "Le dataset a été téléchargé depuis Coursera. Il s’agit d’un fichier csv(houses-pricing.txt) qui contient trois champs qui portent sur les  différentes maisons. Chaque ligne représente une maison."
      ]
    },
    {
      "cell_type": "markdown",
      "metadata": {
        "id": "HqFgQOBAVL_U"
      },
      "source": [
        "Les trois champs sont :\n",
        "\n",
        "*   Le premier champ représente la surface de la maison en metre carré.\n",
        "*   Le deuxième champ représente le nombre de chambres de la maison.\n",
        "*   Le troisième champ représente le prix de la maison en (1000$)"
      ]
    },
    {
      "cell_type": "markdown",
      "metadata": {
        "id": "3ztVdCFWVk2i"
      },
      "source": [
        "Maintenant, recupérons le dataset pour voir à quoi ils ressemblent."
      ]
    },
    {
      "cell_type": "code",
      "metadata": {
        "id": "SoYbJPXVV0M7",
        "colab": {
          "resources": {
            "http://localhost:8080/nbextensions/google.colab/files.js": {
              "data": "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",
              "ok": true,
              "headers": [
                [
                  "content-type",
                  "application/javascript"
                ]
              ],
              "status": 200,
              "status_text": ""
            }
          },
          "base_uri": "https://localhost:8080/",
          "height": 225
        },
        "outputId": "db13e37c-b873-4711-dd38-189a141e96af"
      },
      "source": [
        "from google.colab import files\n",
        "files.upload()\n",
        "\n",
        "import numpy as np\n",
        "tab = np.genfromtxt('houses-pricing.txt', delimiter=',')\n",
        "\n",
        "# recuperation des surfaces des maisons\n",
        "x1 = tab[:,0];\n",
        " \n",
        "# recuperation des nombres de chambres pour chaque maisons\n",
        "x2 = tab[:,1];\n",
        "\n",
        "# recuperation des prix des maisons\n",
        "Y = tab[:,2];\n",
        "\n",
        " \n",
        "dataset = np.ones((np.size(x1),3))\n",
        "dataset[:,0] = x1\n",
        "dataset[:,1] = x2\n",
        "dataset[:,2] = Y\n",
        " \n",
        "# on affiche les 10 premiers maisons\n",
        "print(dataset[0:9,:])"
      ],
      "execution_count": 5,
      "outputs": [
        {
          "output_type": "display_data",
          "data": {
            "text/html": [
              "\n",
              "     <input type=\"file\" id=\"files-e97671c1-ffa5-49e6-b66a-154250c536f3\" name=\"files[]\" multiple disabled\n",
              "        style=\"border:none\" />\n",
              "     <output id=\"result-e97671c1-ffa5-49e6-b66a-154250c536f3\">\n",
              "      Upload widget is only available when the cell has been executed in the\n",
              "      current browser session. Please rerun this cell to enable.\n",
              "      </output>\n",
              "      <script src=\"/nbextensions/google.colab/files.js\"></script> "
            ],
            "text/plain": [
              "<IPython.core.display.HTML object>"
            ]
          },
          "metadata": {
            "tags": []
          }
        },
        {
          "output_type": "stream",
          "text": [
            "Saving houses-pricing.txt to houses-pricing (4).txt\n",
            "[[2.10400e+03 3.00000e+00 3.99900e+05]\n",
            " [1.60000e+03 3.00000e+00 3.29900e+05]\n",
            " [2.40000e+03 3.00000e+00 3.69000e+05]\n",
            " [1.41600e+03 2.00000e+00 2.32000e+05]\n",
            " [3.00000e+03 4.00000e+00 5.39900e+05]\n",
            " [1.98500e+03 4.00000e+00 2.99900e+05]\n",
            " [1.53400e+03 3.00000e+00 3.14900e+05]\n",
            " [1.42700e+03 3.00000e+00 1.98999e+05]\n",
            " [1.38000e+03 3.00000e+00 2.12000e+05]]\n"
          ],
          "name": "stdout"
        }
      ]
    },
    {
      "cell_type": "markdown",
      "metadata": {
        "id": "SVjaVmcgYlGg"
      },
      "source": [
        "On a recupéré les surfaces des maisons (x1), les nombres de chambres pour chaque maisons (x2) et les prix des maisons correspondantes (Y) qu’on a mis sur un tableau à trois colonnes qui se nomme “dataset”."
      ]
    },
    {
      "cell_type": "markdown",
      "metadata": {
        "id": "AWimV3FIZn7K"
      },
      "source": [
        "On nomme m le nombre d’exemples (de maisons) dans le dataset. On obtient ainsi l’ensemble $$E_m = \\{(x^{(1)},y^{(1)}),(x^{(2)},y^{(2)}),...,(x^{(m)},y^{(m)})\\} $$\n",
        "\n",
        "$$avec \\: \\: \\: \\: x^{(i)}=\\begin{pmatrix}\n",
        "x^{(i)}_{1}\\\\ \n",
        "x^{(i)}_{2}\n",
        "\\end{pmatrix} \\: \\forall \\: 0 < i \\leq m $$"
      ]
    },
    {
      "cell_type": "markdown",
      "metadata": {
        "id": "Mjndpaf_c_Zw"
      },
      "source": [
        "De ce fait $$ (x^{(i)},y^{(i)}) $$ représente la i-ème ligne de la table “dataset” :  \n",
        "* la surface $$ x^{(i)}_1 $$ de la i-ème maison\n",
        "* le nombre de chambres $$ x^{(i)}_2 $$ de la i-ème maison \n",
        "* et le prix $$ y^{(i)} $$ de la i-ème maison."
      ]
    },
    {
      "cell_type": "markdown",
      "metadata": {
        "id": "h4QJyzBLcbdo"
      },
      "source": [
        "Ici, X est un vecteur de dimension 2 contrairement à l'article précédent ou X était un sacalaire. ce qui veut dire qu'on fait une régréssion avec 2 variables."
      ]
    },
    {
      "cell_type": "markdown",
      "metadata": {
        "id": "KeltGo_ufOib"
      },
      "source": [
        "Si on représente vectoriellement tout le dataset, on aura :\n",
        "\n",
        "$$ \\forall \\: x^{(i)} \\in \\: X, \\: on \\: aura \\: \\: x^{(i)}=\\begin{pmatrix}\n",
        "x^{(i)}_{0}\\\\ \n",
        "x^{(i)}_{1}\\\\ \n",
        "x^{(i)}_{2}\n",
        "\\end{pmatrix} \\: avec \\: x^{(i)}_{0} = 1 $$"
      ]
    },
    {
      "cell_type": "markdown",
      "metadata": {
        "id": "yUjDWBxnhOik"
      },
      "source": [
        "L’ensemble X va devenir alors : $$ X = \\begin{pmatrix}\n",
        "1 & x^{(1)}_{1} & x^{(1)}_{2}\\\\ \n",
        "1 & x^{(2)}_{1} & x^{(2)}_{2}\\\\ \n",
        ". & . & .\\\\\n",
        ". & . & .\\\\\n",
        "1 & x^{(m)}_{1} & x^{(m)}_{2}\n",
        "\\end{pmatrix} $$"
      ]
    },
    {
      "cell_type": "markdown",
      "metadata": {
        "id": "dXv2xFmFiYTz"
      },
      "source": [
        "on modifie la varable dataset afin d’ajouter une colonne (avec des 1) devant. ce qui va nous donner :"
      ]
    },
    {
      "cell_type": "code",
      "metadata": {
        "colab": {
          "base_uri": "https://localhost:8080/"
        },
        "id": "SUr2ySMRiaiz",
        "outputId": "ccb1943c-8346-454e-ffcd-dce22c34892d"
      },
      "source": [
        "datasetTemp = dataset\n",
        " \n",
        "dataset = np.ones((np.size(x1),4))\n",
        "dataset[:,1] = datasetTemp[:,0]\n",
        "dataset[:,2] = datasetTemp[:,1]\n",
        "dataset[:,3] = datasetTemp[:,2]\n",
        " \n",
        "X = dataset[:,0:3]\n",
        "Y = dataset[:,3]\n",
        " \n",
        "print(X.shape)\n",
        "print(X)\n",
        "print(Y.shape)\n",
        "print(Y)"
      ],
      "execution_count": 6,
      "outputs": [
        {
          "output_type": "stream",
          "text": [
            "(47, 3)\n",
            "[[1.000e+00 2.104e+03 3.000e+00]\n",
            " [1.000e+00 1.600e+03 3.000e+00]\n",
            " [1.000e+00 2.400e+03 3.000e+00]\n",
            " [1.000e+00 1.416e+03 2.000e+00]\n",
            " [1.000e+00 3.000e+03 4.000e+00]\n",
            " [1.000e+00 1.985e+03 4.000e+00]\n",
            " [1.000e+00 1.534e+03 3.000e+00]\n",
            " [1.000e+00 1.427e+03 3.000e+00]\n",
            " [1.000e+00 1.380e+03 3.000e+00]\n",
            " [1.000e+00 1.494e+03 3.000e+00]\n",
            " [1.000e+00 1.940e+03 4.000e+00]\n",
            " [1.000e+00 2.000e+03 3.000e+00]\n",
            " [1.000e+00 1.890e+03 3.000e+00]\n",
            " [1.000e+00 4.478e+03 5.000e+00]\n",
            " [1.000e+00 1.268e+03 3.000e+00]\n",
            " [1.000e+00 2.300e+03 4.000e+00]\n",
            " [1.000e+00 1.320e+03 2.000e+00]\n",
            " [1.000e+00 1.236e+03 3.000e+00]\n",
            " [1.000e+00 2.609e+03 4.000e+00]\n",
            " [1.000e+00 3.031e+03 4.000e+00]\n",
            " [1.000e+00 1.767e+03 3.000e+00]\n",
            " [1.000e+00 1.888e+03 2.000e+00]\n",
            " [1.000e+00 1.604e+03 3.000e+00]\n",
            " [1.000e+00 1.962e+03 4.000e+00]\n",
            " [1.000e+00 3.890e+03 3.000e+00]\n",
            " [1.000e+00 1.100e+03 3.000e+00]\n",
            " [1.000e+00 1.458e+03 3.000e+00]\n",
            " [1.000e+00 2.526e+03 3.000e+00]\n",
            " [1.000e+00 2.200e+03 3.000e+00]\n",
            " [1.000e+00 2.637e+03 3.000e+00]\n",
            " [1.000e+00 1.839e+03 2.000e+00]\n",
            " [1.000e+00 1.000e+03 1.000e+00]\n",
            " [1.000e+00 2.040e+03 4.000e+00]\n",
            " [1.000e+00 3.137e+03 3.000e+00]\n",
            " [1.000e+00 1.811e+03 4.000e+00]\n",
            " [1.000e+00 1.437e+03 3.000e+00]\n",
            " [1.000e+00 1.239e+03 3.000e+00]\n",
            " [1.000e+00 2.132e+03 4.000e+00]\n",
            " [1.000e+00 4.215e+03 4.000e+00]\n",
            " [1.000e+00 2.162e+03 4.000e+00]\n",
            " [1.000e+00 1.664e+03 2.000e+00]\n",
            " [1.000e+00 2.238e+03 3.000e+00]\n",
            " [1.000e+00 2.567e+03 4.000e+00]\n",
            " [1.000e+00 1.200e+03 3.000e+00]\n",
            " [1.000e+00 8.520e+02 2.000e+00]\n",
            " [1.000e+00 1.852e+03 4.000e+00]\n",
            " [1.000e+00 1.203e+03 3.000e+00]]\n",
            "(47,)\n",
            "[399900. 329900. 369000. 232000. 539900. 299900. 314900. 198999. 212000.\n",
            " 242500. 239999. 347000. 329999. 699900. 259900. 449900. 299900. 199900.\n",
            " 499998. 599000. 252900. 255000. 242900. 259900. 573900. 249900. 464500.\n",
            " 469000. 475000. 299900. 349900. 169900. 314900. 579900. 285900. 249900.\n",
            " 229900. 345000. 549000. 287000. 368500. 329900. 314000. 299000. 179900.\n",
            " 299900. 239500.]\n"
          ],
          "name": "stdout"
        }
      ]
    },
    {
      "cell_type": "markdown",
      "metadata": {
        "id": "WHR1CPVc9K8G"
      },
      "source": [
        "# 2 - Représentation du modèle et fonction d'erreur"
      ]
    },
    {
      "cell_type": "markdown",
      "metadata": {
        "id": "eMBoI0Q-9l3G"
      },
      "source": [
        ""
      ]
    },
    {
      "cell_type": "markdown",
      "metadata": {
        "id": "Nqb5iosF9pfV"
      },
      "source": [
        "# 3 - Entrainement du modèle"
      ]
    },
    {
      "cell_type": "markdown",
      "metadata": {
        "id": "daRntpPC99Re"
      },
      "source": [
        "## 3.1 - Descente de gradient"
      ]
    },
    {
      "cell_type": "markdown",
      "metadata": {
        "id": "vlpJ1Tpm-Grm"
      },
      "source": [
        ""
      ]
    },
    {
      "cell_type": "markdown",
      "metadata": {
        "id": "glnNeOvT-Hb-"
      },
      "source": [
        "## 3.2 - Normalisation"
      ]
    },
    {
      "cell_type": "markdown",
      "metadata": {
        "id": "W0ClwPRA-M5v"
      },
      "source": [
        ""
      ]
    },
    {
      "cell_type": "markdown",
      "metadata": {
        "id": "qHa1Le1c-Non"
      },
      "source": [
        "# 4 - Regréssion polynomiale"
      ]
    },
    {
      "cell_type": "markdown",
      "metadata": {
        "id": "0456Ty87-cZI"
      },
      "source": [
        ""
      ]
    },
    {
      "cell_type": "markdown",
      "metadata": {
        "id": "mHZsRMLI-dFW"
      },
      "source": [
        "# 5 - Equation normale"
      ]
    },
    {
      "cell_type": "markdown",
      "metadata": {
        "id": "RlGKOEV5-ikX"
      },
      "source": [
        ""
      ]
    }
  ]
}